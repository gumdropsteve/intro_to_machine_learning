{
  "nbformat": 4,
  "nbformat_minor": 0,
  "metadata": {
    "colab": {
      "name": "PCA_solve.ipynb",
      "provenance": [],
      "collapsed_sections": []
    },
    "kernelspec": {
      "name": "python3",
      "display_name": "Python 3"
    }
  },
  "cells": [
    {
      "cell_type": "code",
      "metadata": {
        "id": "KTUHqa5QpbKZ"
      },
      "source": [
        "import pandas as pd\n",
        "import numpy as np\n",
        "import matplotlib.pyplot as plt\n",
        "\n",
        "# Additional Imports here\n",
        "from sklearn.model_selection import train_test_split\n",
        "from sklearn.linear_model import LogisticRegression\n",
        "from sklearn.decomposition import PCA\n",
        "from sklearn.preprocessing import StandardScaler"
      ],
      "execution_count": 53,
      "outputs": []
    },
    {
      "cell_type": "markdown",
      "metadata": {
        "id": "J4JJUVjJtU7h"
      },
      "source": [
        "<center><H1>PCA With Diabetes Dataset</H1></center>\n",
        "\n",
        "<p align=\"center\">\n",
        "  <img width=\"500\" height=\"200\" src=\"https://i.gifer.com/H7zW.gif\">\n",
        "</p>\n",
        "\n",
        "\n",
        "👉🏼 [Data Dictionary](https://www.kaggle.com/uciml/pima-indians-diabetes-database) 👈🏼\n",
        "\n",
        "<center><H3>Steps (Must be performed in this order)</H></center>\n",
        "\n",
        "1. [Split Data](https://scikit-learn.org/stable/modules/generated/sklearn.model_selection.train_test_split.html)\n",
        "2. EDA (Show us your opinion of the 2 best plots explaining the most important insights int the data). \n",
        "    - **Plots Require**:\n",
        "        - Title\n",
        "        - Axis Labels\n",
        "        - Legend\n",
        "        - A short explanation why it is important as if you were explaining it to someone who has never seen the plot before and is unfamiliar with the data.\n",
        "3. Determine Baseline Model\n",
        "4. [Scale Data](https://scikit-learn.org/stable/modules/generated/sklearn.preprocessing.StandardScaler.html)\n",
        "5. [Create Logistic Regression Model](https://scikit-learn.org/stable/modules/generated/sklearn.linear_model.LogisticRegression.html)\n",
        "6. Compare Results to Baseline\n",
        "7. [Perform PCA](https://scikit-learn.org/stable/modules/generated/sklearn.decomposition.PCA.html)\n",
        "8. Use Your Principal Components for a Logistic Regression Model\n",
        "9. Compare Results to Baseline and previous Logistic Regression Model without PCA and provide an explanation of what the results meana nd the point of PCA\n",
        "\n",
        "✨BONUS✨\n",
        " - Create a Scree Plot (You will probably have to research this)"
      ]
    },
    {
      "cell_type": "code",
      "metadata": {
        "colab": {
          "base_uri": "https://localhost:8080/",
          "height": 158
        },
        "id": "WxF0nLIsq3er",
        "outputId": "07450e56-fb70-4945-fee8-3b1974143974"
      },
      "source": [
        "df = pd.read_csv(\"https://raw.githubusercontent.com/mpHarm88/datasets/master/diabetes.csv\")\n",
        "df.sample(3)"
      ],
      "execution_count": 3,
      "outputs": [
        {
          "output_type": "execute_result",
          "data": {
            "text/html": [
              "<div>\n",
              "<style scoped>\n",
              "    .dataframe tbody tr th:only-of-type {\n",
              "        vertical-align: middle;\n",
              "    }\n",
              "\n",
              "    .dataframe tbody tr th {\n",
              "        vertical-align: top;\n",
              "    }\n",
              "\n",
              "    .dataframe thead th {\n",
              "        text-align: right;\n",
              "    }\n",
              "</style>\n",
              "<table border=\"1\" class=\"dataframe\">\n",
              "  <thead>\n",
              "    <tr style=\"text-align: right;\">\n",
              "      <th></th>\n",
              "      <th>Pregnancies</th>\n",
              "      <th>Glucose</th>\n",
              "      <th>BloodPressure</th>\n",
              "      <th>SkinThickness</th>\n",
              "      <th>Insulin</th>\n",
              "      <th>BMI</th>\n",
              "      <th>DiabetesPedigreeFunction</th>\n",
              "      <th>Age</th>\n",
              "      <th>Outcome</th>\n",
              "    </tr>\n",
              "  </thead>\n",
              "  <tbody>\n",
              "    <tr>\n",
              "      <th>509</th>\n",
              "      <td>8</td>\n",
              "      <td>120</td>\n",
              "      <td>78</td>\n",
              "      <td>0</td>\n",
              "      <td>0</td>\n",
              "      <td>25.0</td>\n",
              "      <td>0.409</td>\n",
              "      <td>64</td>\n",
              "      <td>0</td>\n",
              "    </tr>\n",
              "    <tr>\n",
              "      <th>606</th>\n",
              "      <td>1</td>\n",
              "      <td>181</td>\n",
              "      <td>78</td>\n",
              "      <td>42</td>\n",
              "      <td>293</td>\n",
              "      <td>40.0</td>\n",
              "      <td>1.258</td>\n",
              "      <td>22</td>\n",
              "      <td>1</td>\n",
              "    </tr>\n",
              "    <tr>\n",
              "      <th>31</th>\n",
              "      <td>3</td>\n",
              "      <td>158</td>\n",
              "      <td>76</td>\n",
              "      <td>36</td>\n",
              "      <td>245</td>\n",
              "      <td>31.6</td>\n",
              "      <td>0.851</td>\n",
              "      <td>28</td>\n",
              "      <td>1</td>\n",
              "    </tr>\n",
              "  </tbody>\n",
              "</table>\n",
              "</div>"
            ],
            "text/plain": [
              "     Pregnancies  Glucose  ...  Age  Outcome\n",
              "509            8      120  ...   64        0\n",
              "606            1      181  ...   22        1\n",
              "31             3      158  ...   28        1\n",
              "\n",
              "[3 rows x 9 columns]"
            ]
          },
          "metadata": {
            "tags": []
          },
          "execution_count": 3
        }
      ]
    },
    {
      "cell_type": "code",
      "metadata": {
        "id": "iE2FdnWs3LAC"
      },
      "source": [
        "# Step 1\n",
        "X_train, X_test, y_train, y_test = train_test_split(\n",
        "                                                    df.drop(\"Outcome\", axis=1), \n",
        "                                                    df[\"Outcome\"], \n",
        "                                                    stratify=df[\"Outcome\"]\n",
        "                                                    )"
      ],
      "execution_count": 29,
      "outputs": []
    },
    {
      "cell_type": "code",
      "metadata": {
        "id": "a43hGEgj3_ly"
      },
      "source": [
        "# Step 2\n",
        "\n",
        "# Varies depending on student answer"
      ],
      "execution_count": 30,
      "outputs": []
    },
    {
      "cell_type": "code",
      "metadata": {
        "colab": {
          "base_uri": "https://localhost:8080/"
        },
        "id": "DxGOapX44SgO",
        "outputId": "15e3cd22-a7dc-420b-9e47-edeac01949de"
      },
      "source": [
        "# Step 3\n",
        "print(\"Model Baseline (Class 0)\")\n",
        "y_train.value_counts(normalize=True)[0]"
      ],
      "execution_count": 31,
      "outputs": [
        {
          "output_type": "stream",
          "text": [
            "Model Baseline (Class 0)\n"
          ],
          "name": "stdout"
        },
        {
          "output_type": "execute_result",
          "data": {
            "text/plain": [
              "0.6510416666666666"
            ]
          },
          "metadata": {
            "tags": []
          },
          "execution_count": 31
        }
      ]
    },
    {
      "cell_type": "code",
      "metadata": {
        "id": "GfKz-Pio4YDc"
      },
      "source": [
        "# Step 4\n",
        "scaler = StandardScaler()\n",
        "\n",
        "X_train_std = scaler.fit_transform(X_train)\n",
        "X_test_std = scaler.transform(X_test)"
      ],
      "execution_count": 32,
      "outputs": []
    },
    {
      "cell_type": "code",
      "metadata": {
        "colab": {
          "base_uri": "https://localhost:8080/"
        },
        "id": "5g7UppPJ4zxd",
        "outputId": "0b3ecbc5-4b68-454b-9b48-54f9109ebd6a"
      },
      "source": [
        "# Step 5\n",
        "lr = LogisticRegression()\n",
        "lr.fit(X_train_std,y_train)\n",
        "\n",
        "print(\"Accuracy Score\")\n",
        "lr.score(X_test_std, y_test)"
      ],
      "execution_count": 33,
      "outputs": [
        {
          "output_type": "stream",
          "text": [
            "Accuracy Score\n"
          ],
          "name": "stdout"
        },
        {
          "output_type": "execute_result",
          "data": {
            "text/plain": [
              "0.7916666666666666"
            ]
          },
          "metadata": {
            "tags": []
          },
          "execution_count": 33
        }
      ]
    },
    {
      "cell_type": "code",
      "metadata": {
        "colab": {
          "base_uri": "https://localhost:8080/"
        },
        "id": "6kcmyn-g52ow",
        "outputId": "a950194f-a86c-4f65-a258-d4f0865e1174"
      },
      "source": [
        "# Step 6\n",
        "print(f\"Model Baseline: {y_train.value_counts(normalize=True)[0]}\")\n",
        "print(f\"Logistic Regression: {lr.score(X_test_std, y_test)}\")\n",
        "print(f\"Improvement over Baseline: {(lr.score(X_test_std, y_test))-(y_train.value_counts(normalize=True)[0])}\")"
      ],
      "execution_count": 34,
      "outputs": [
        {
          "output_type": "stream",
          "text": [
            "Model Baseline: 0.6510416666666666\n",
            "Logistic Regression: 0.7916666666666666\n",
            "Improvement over Baseline: 0.140625\n"
          ],
          "name": "stdout"
        }
      ]
    },
    {
      "cell_type": "code",
      "metadata": {
        "colab": {
          "base_uri": "https://localhost:8080/"
        },
        "id": "_z1KwQxJ6MrK",
        "outputId": "1279ecf6-4734-424e-af50-bab8a820c595"
      },
      "source": [
        "# Step 7\n",
        "pca = PCA()\n",
        "\n",
        "X_train_pca = pca.fit_transform(X_train_std)\n",
        "X_test_pca = pca.transform(X_test_std)\n",
        "\n",
        "# Step 8\n",
        "lr2 = LogisticRegression()\n",
        "lr2.fit(X_train_pca, y_train)\n",
        "lr2.score(X_test_pca, y_test) # We expect to see the same score as previous if using all principal components"
      ],
      "execution_count": 45,
      "outputs": [
        {
          "output_type": "execute_result",
          "data": {
            "text/plain": [
              "0.7916666666666666"
            ]
          },
          "metadata": {
            "tags": []
          },
          "execution_count": 45
        }
      ]
    },
    {
      "cell_type": "code",
      "metadata": {
        "id": "J5ouAu068mp0"
      },
      "source": [
        "# Step 9\n",
        "\n",
        "# Varies depending on student answer"
      ],
      "execution_count": null,
      "outputs": []
    },
    {
      "cell_type": "code",
      "metadata": {
        "colab": {
          "base_uri": "https://localhost:8080/",
          "height": 503
        },
        "id": "SROnztltJt84",
        "outputId": "6ce4c260-52fa-438a-bd54-76e1872ea1c6"
      },
      "source": [
        "# ✨BONUS✨\n",
        "\n",
        "plt.style.use(\"seaborn\")\n",
        "plt.figure(figsize=(15,8))\n",
        "exp_var = pd.Series(pca.explained_variance_ratio_) \n",
        "exp_var.plot(kind=\"bar\", alpha=0.7) # plot bar chart\n",
        "\n",
        "# Calculate the amount of variance explained added by each additional component\n",
        "total = 0\n",
        "var_ls = []\n",
        "for x in exp_var:\n",
        "    total = total+x\n",
        "    var_ls.append(total)\n",
        "\n",
        "pd.Series(var_ls).plot(marker=\"o\", alpha=0.7) #plot line chart of increasing variances\n",
        "plt.xlabel(\"Principle Components\", fontsize=\"x-large\")\n",
        "plt.ylabel(\"Percentage Variance Explained\", fontsize=\"x-large\")\n",
        "plt.title(\"Diabetes Scree Plot\", fontsize=\"xx-large\")\n",
        "plt.show();"
      ],
      "execution_count": 105,
      "outputs": [
        {
          "output_type": "display_data",
          "data": {
            "image/png": "[encoded data removed]",
            "text/plain": [
              "<Figure size 1080x576 with 1 Axes>"
            ]
          },
          "metadata": {
            "tags": []
          }
        }
      ]
    }
  ]
}