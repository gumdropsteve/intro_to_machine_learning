{
 "cells": [
  {
   "cell_type": "markdown",
   "metadata": {
    "colab_type": "text",
    "id": "view-in-github"
   },
   "source": [
    "<a href=\"https://colab.research.google.com/github/gumdropsteve/intro_to_machine_learning/blob/main/day_09/03_assignment.ipynb\" target=\"_parent\"><img src=\"https://colab.research.google.com/assets/colab-badge.svg\" alt=\"Open In Colab\"/></a>"
   ]
  },
  {
   "cell_type": "code",
   "execution_count": 5,
   "metadata": {},
   "outputs": [],
   "source": [
    "%%capture\n",
    "!pip install category-encoders"
   ]
  },
  {
   "cell_type": "code",
   "execution_count": 55,
   "metadata": {
    "id": "5PFscYAPmanE"
   },
   "outputs": [],
   "source": [
    "import pandas as pd\n",
    "\n",
    "# Import what you feel is neccessary from scikit-learn\n",
    "import category_encoders as ce\n",
    "from sklearn.neighbors import KNeighborsClassifier\n",
    "from sklearn.pipeline import make_pipeline\n",
    "from sklearn.preprocessing import StandardScaler\n",
    "from sklearn.metrics import plot_confusion_matrix\n",
    "from sklearn.metrics import accuracy_score\n",
    "from sklearn.model_selection import GridSearchCV\n",
    "from sklearn.metrics import classification_report\n",
    "from sklearn.linear_model import LogisticRegression\n",
    "from sklearn.decomposition import PCA\n",
    "import warnings\n",
    "warnings.filterwarnings('ignore')"
   ]
  },
  {
   "cell_type": "markdown",
   "metadata": {
    "id": "c1X6_K4km-ic"
   },
   "source": [
    "\n",
    "<center><H1>Adult Dataset Classification</H1></center>\n",
    "\n",
    "\n",
    "<p align=\"center\">\n",
    "  <img width=\"700\" height=\"350\" src=\"https://media.giphy.com/media/HoffxyN8ghVuw/giphy.gif\">\n",
    "</p>\n",
    "\n",
    "### Target = \"<=50k\"\n",
    "\n",
    "### [Data Dictionary/Details](https://archive.ics.uci.edu/ml/datasets/Adult)\n",
    "\n",
    "- age: continuous.\n",
    "- workclass: Private, Self-emp-not-inc, Self-emp-inc, Federal-gov, Local-gov, State-gov, Without-pay, Never-worked.\n",
    "- fnlwgt: continuous.\n",
    "- education: Bachelors, Some-college, 11th, HS-grad, Prof-school, Assoc-acdm, Assoc-voc, 9th, 7th-8th, 12th, Masters, 1st-4th, 10th, Doctorate, 5th-6th, Preschool.\n",
    "- education-num: continuous.\n",
    "- marital-status: Married-civ-spouse, Divorced, Never-married, Separated, Widowed, Married-spouse-absent, Married-AF-spouse.\n",
    "- occupation: Tech-support, Craft-repair, Other-service, Sales, Exec-managerial, Prof-specialty, Handlers-cleaners, Machine-op-inspct, Adm-clerical, Farming-fishing, Transport-moving, Priv-house-serv, Protective-serv, Armed-Forces.\n",
    "- relationship: Wife, Own-child, Husband, Not-in-family, Other-relative, Unmarried.\n",
    "- sex: Female, Male.\n",
    "- capital-gain: continuous.\n",
    "- capital-loss: continuous.\n",
    "- hours-per-week: continuous.\n",
    "- native-country: United-States, Cambodia, England, Puerto-Rico, Canada, Germany, Outlying-US(Guam-USVI-etc), India, Japan, Greece, South, China, Cuba, Iran, Honduras, Philippines, Italy, Poland, Jamaica, Vietnam, Mexico, Portugal, Ireland, France, Dominican-Republic, Laos, Ecuador, Taiwan, Haiti, Columbia, Hungary, Guatemala, Nicaragua, Scotland, Thailand, Yugoslavia, El-Salvador, Trinadad&Tobago, Peru, Hong, Holand-Netherlands.\n",
    "- \"<=50k\" = >50K, <=50K (TARGET)\n",
    "\n",
    "<center><H3>-----RULES-----</H3></center>\n",
    "\n",
    "<p align=\"center\">\n",
    "  <img width=\"700\" height=\"350\" src=\"https://media.giphy.com/media/iB4PoTVka0Xnul7UaC/giphy.gif\">\n",
    "</p>\n",
    "\n",
    "### Your data has already been split into training and testing sets, do not use `train_test_split`\n",
    "### Only use your training set for EDA, Cleaning, Modeling, etc.\n",
    "- **You will have to perform the same transformations on your test set that you apply to your training set. The column names are exactly the same as your training set.**\n",
    "\n",
    "### **DO NOT** look into your test set until you are ready to test the accuracy of your model. Your test set is supposed to represent unseen data and lets treat it that way until we are ready to test our accuracy. Your transformations on your training set should work on your test set since it has the exact same column names and the values are exactly the same.\n",
    "\n"
   ]
  },
  {
   "cell_type": "code",
   "execution_count": 2,
   "metadata": {
    "id": "QZlO5AoxmgmN"
   },
   "outputs": [],
   "source": [
    "# Starter Code --DO NOT ADJUST--\n",
    "col_names = [\"age\", \"workclass\", \"fnlwgt\", \"education\", \"education_num\", \"marital_status\", \"ooccupation\", \"relationship\", \"race\", \"sex\", \"capital_gain\", \"capital_loss\", \"hours_per_week\", \"native_country\", \"target\"]\n",
    "training = pd.read_csv(\"https://archive.ics.uci.edu/ml/machine-learning-databases/adult/adult.data\", names=col_names).drop(\"race\", axis=1)\n",
    "test = pd.read_csv(\"https://archive.ics.uci.edu/ml/machine-learning-databases/adult/adult.test\", names=col_names, skiprows=1).drop(\"race\", axis=1)\n",
    "\n",
    "training[\"target\"] = training[\"target\"].apply(lambda x: x.strip())\n",
    "test[\"target\"] = test[\"target\"].apply(lambda x: x.strip()[:-1])\n",
    "\n",
    "# Create Train\n",
    "X_train = training.drop(\"target\", axis=1)\n",
    "y_train = training[\"target\"]\n",
    "\n",
    "# Create Test\n",
    "X_test = test.drop(\"target\", axis=1)\n",
    "y_test = test[\"target\"]"
   ]
  },
  {
   "cell_type": "markdown",
   "metadata": {
    "id": "qrUeW9PhrNIM"
   },
   "source": [
    "### **Determine your baseline model accuracy**"
   ]
  },
  {
   "cell_type": "code",
   "execution_count": 9,
   "metadata": {
    "id": "Fqs-ZqrRpFoQ"
   },
   "outputs": [
    {
     "data": {
      "text/plain": [
       "<=50K    0.75919\n",
       ">50K     0.24081\n",
       "Name: target, dtype: float64"
      ]
     },
     "execution_count": 9,
     "metadata": {},
     "output_type": "execute_result"
    }
   ],
   "source": [
    "# Mean baseline is <=50k with a 75.9% accuracy\n",
    "training[\"target\"].value_counts(normalize=True)"
   ]
  },
  {
   "cell_type": "markdown",
   "metadata": {
    "id": "gBmwzGa3rQO-"
   },
   "source": [
    "### **Visualize the data in your training set (EDA)**\n",
    "- Please only create 3 visualization explaining different insights in the data. So you have enough time to model. \n",
    "- You can only use one of each plot type, this means you cant make 3 bar plot, 3 Scatter Plots, etc.\n"
   ]
  },
  {
   "cell_type": "code",
   "execution_count": 26,
   "metadata": {
    "id": "9yZFF1Z4JFtN"
   },
   "outputs": [
    {
     "data": {
      "image/png": "[encoded data removed]",
      "text/plain": [
       "<Figure size 432x288 with 1 Axes>"
      ]
     },
     "metadata": {
      "needs_background": "light"
     },
     "output_type": "display_data"
    }
   ],
   "source": [
    "training[\"age\"].plot(kind=\"hist\", title=\"Histogram of Age\");"
   ]
  },
  {
   "cell_type": "code",
   "execution_count": 27,
   "metadata": {
    "id": "l98DQI5yJGS4"
   },
   "outputs": [
    {
     "data": {
      "image/png": "[encoded data removed]",
      "text/plain": [
       "<Figure size 432x288 with 1 Axes>"
      ]
     },
     "metadata": {
      "needs_background": "light"
     },
     "output_type": "display_data"
    }
   ],
   "source": [
    "training[\"marital_status\"].value_counts().plot(kind=\"bar\", title=\"Distribution of Marital Status\");"
   ]
  },
  {
   "cell_type": "code",
   "execution_count": 28,
   "metadata": {},
   "outputs": [
    {
     "data": {
      "image/png": "[encoded data removed]",
      "text/plain": [
       "<Figure size 432x288 with 1 Axes>"
      ]
     },
     "metadata": {
      "needs_background": "light"
     },
     "output_type": "display_data"
    }
   ],
   "source": [
    "training.plot(kind=\"scatter\", y=\"age\", x=\"capital_gain\", title=\"Relationship between capital_gain and age\");"
   ]
  },
  {
   "cell_type": "markdown",
   "metadata": {
    "id": "bxzjr4wIrU8D"
   },
   "source": [
    "### **Clean and Preprocess your Data** (Hint: One-Hot-Encode Categoricals)\r\n",
    "Hint: https://pandas.pydata.org/pandas-docs/stable/reference/api/pandas.get_dummies.html"
   ]
  },
  {
   "cell_type": "code",
   "execution_count": null,
   "metadata": {
    "id": "QG_vbMaMrXyg"
   },
   "outputs": [],
   "source": []
  },
  {
   "cell_type": "code",
   "execution_count": null,
   "metadata": {
    "id": "R67pcacpJEQo"
   },
   "outputs": [],
   "source": []
  },
  {
   "cell_type": "code",
   "execution_count": null,
   "metadata": {
    "id": "FQdM2A45JETI"
   },
   "outputs": [],
   "source": []
  },
  {
   "cell_type": "markdown",
   "metadata": {
    "id": "dfZriX0vre2W"
   },
   "source": [
    "### **Create a kNN model** \n",
    "\n"
   ]
  },
  {
   "cell_type": "code",
   "execution_count": 58,
   "metadata": {
    "id": "kcSiOF2HrhcD"
   },
   "outputs": [
    {
     "name": "stdout",
     "output_type": "stream",
     "text": [
      "Fitting 10 folds for each of 288 candidates, totalling 2880 fits\n"
     ]
    },
    {
     "name": "stderr",
     "output_type": "stream",
     "text": [
      "[Parallel(n_jobs=4)]: Using backend LokyBackend with 4 concurrent workers.\n",
      "[Parallel(n_jobs=4)]: Done  33 tasks      | elapsed:  1.1min\n",
      "[Parallel(n_jobs=4)]: Done 154 tasks      | elapsed:  5.2min\n",
      "[Parallel(n_jobs=4)]: Done 357 tasks      | elapsed: 12.2min\n",
      "[Parallel(n_jobs=4)]: Done 640 tasks      | elapsed: 21.5min\n",
      "[Parallel(n_jobs=4)]: Done 1005 tasks      | elapsed: 35.7min\n",
      "[Parallel(n_jobs=4)]: Done 1450 tasks      | elapsed: 58.1min\n",
      "[Parallel(n_jobs=4)]: Done 1977 tasks      | elapsed: 83.1min\n",
      "[Parallel(n_jobs=4)]: Done 2584 tasks      | elapsed: 103.6min\n",
      "[Parallel(n_jobs=4)]: Done 2880 out of 2880 | elapsed: 113.9min finished\n"
     ]
    },
    {
     "data": {
      "text/plain": [
       "GridSearchCV(cv=10,\n",
       "             estimator=Pipeline(steps=[('onehotencoder', OneHotEncoder()),\n",
       "                                       ('standardscaler', StandardScaler()),\n",
       "                                       ('pca', PCA(n_components=0.9)),\n",
       "                                       ('kneighborsclassifier',\n",
       "                                        KNeighborsClassifier(n_jobs=-1))]),\n",
       "             n_jobs=4,\n",
       "             param_grid={'kneighborsclassifier__algorithm': ['auto',\n",
       "                                                             'ball_tree',\n",
       "                                                             'kd_tree'],\n",
       "                         'kneighborsclassifier__metric': ['minkowski',\n",
       "                                                          'euclidean'],\n",
       "                         'kneighborsclassifier__n_neighbors': [11, 13, 16],\n",
       "                         'kneighborsclassifier__weights': ['uniform',\n",
       "                                                           'distance'],\n",
       "                         'onehotencoder__drop_invariant': [True, False],\n",
       "                         'standardscaler__with_mean': [True, False],\n",
       "                         'standardscaler__with_std': [True, False]},\n",
       "             scoring='roc_auc', verbose=2)"
      ]
     },
     "execution_count": 58,
     "metadata": {},
     "output_type": "execute_result"
    }
   ],
   "source": [
    "pipe = make_pipeline(\n",
    "    ce.OneHotEncoder(),\n",
    "    StandardScaler(),\n",
    "    KNeighborsClassifier(n_jobs=-1)\n",
    ")\n",
    "\n",
    "p_grid = {\n",
    "    \"onehotencoder__drop_invariant\": [True, False],\n",
    "    \"standardscaler__with_mean\": [True, False],\n",
    "    \"standardscaler__with_std\": [True, False],\n",
    "    \"kneighborsclassifier__n_neighbors\": [11,13,16],\n",
    "    \"kneighborsclassifier__weights\": [\"uniform\", \"distance\"],\n",
    "    \"kneighborsclassifier__algorithm\": [\"auto\", \"ball_tree\", \"kd_tree\"],\n",
    "    \"kneighborsclassifier__metric\": [\"minkowski\", \"euclidean\"]\n",
    "}\n",
    "grid = GridSearchCV(pipe, param_grid=p_grid, cv=10, scoring=\"roc_auc\", n_jobs=4, verbose=2)\n",
    "grid.fit(X_train, y_train)"
   ]
  },
  {
   "cell_type": "code",
   "execution_count": 59,
   "metadata": {
    "id": "X0SYPvIMJDt8"
   },
   "outputs": [
    {
     "data": {
      "text/plain": [
       "{'kneighborsclassifier__algorithm': 'ball_tree',\n",
       " 'kneighborsclassifier__metric': 'minkowski',\n",
       " 'kneighborsclassifier__n_neighbors': 16,\n",
       " 'kneighborsclassifier__weights': 'uniform',\n",
       " 'onehotencoder__drop_invariant': False,\n",
       " 'standardscaler__with_mean': True,\n",
       " 'standardscaler__with_std': True}"
      ]
     },
     "execution_count": 59,
     "metadata": {},
     "output_type": "execute_result"
    }
   ],
   "source": [
    "# Best Params\n",
    "grid.best_params_"
   ]
  },
  {
   "cell_type": "code",
   "execution_count": 60,
   "metadata": {
    "id": "chv0rNi4JDx5"
   },
   "outputs": [
    {
     "data": {
      "text/plain": [
       "0.8325041459369817"
      ]
     },
     "execution_count": 60,
     "metadata": {},
     "output_type": "execute_result"
    }
   ],
   "source": [
    "# Score\n",
    "\n",
    "accuracy_score(y_test, grid.best_estimator_.predict(X_test))"
   ]
  },
  {
   "cell_type": "markdown",
   "metadata": {
    "id": "GDc2e_VLrigc"
   },
   "source": [
    "### **Show us your confusion matrix and explain the results**"
   ]
  },
  {
   "cell_type": "code",
   "execution_count": 61,
   "metadata": {
    "id": "iWTkDkFWrl9i"
   },
   "outputs": [
    {
     "data": {
      "text/plain": [
       "<sklearn.metrics._plot.confusion_matrix.ConfusionMatrixDisplay at 0x7fd118e3cd60>"
      ]
     },
     "execution_count": 61,
     "metadata": {},
     "output_type": "execute_result"
    },
    {
     "data": {
      "image/png": "[encoded data removed]",
      "text/plain": [
       "<Figure size 432x288 with 2 Axes>"
      ]
     },
     "metadata": {
      "needs_background": "light"
     },
     "output_type": "display_data"
    }
   ],
   "source": [
    "plot_confusion_matrix(grid, X_test, y_test)"
   ]
  },
  {
   "cell_type": "code",
   "execution_count": 62,
   "metadata": {
    "id": "msfIVgqsJKl5"
   },
   "outputs": [
    {
     "name": "stdout",
     "output_type": "stream",
     "text": [
      "              precision    recall  f1-score   support\n",
      "\n",
      "       <=50K       0.86      0.93      0.89     12435\n",
      "        >50K       0.69      0.52      0.60      3846\n",
      "\n",
      "    accuracy                           0.83     16281\n",
      "   macro avg       0.78      0.73      0.74     16281\n",
      "weighted avg       0.82      0.83      0.82     16281\n",
      "\n"
     ]
    }
   ],
   "source": [
    "print(classification_report(y_test, grid.best_estimator_.predict(X_test)))"
   ]
  },
  {
   "cell_type": "markdown",
   "metadata": {
    "id": "pFyxHCuIJK0Z"
   },
   "source": [
    "your stuff here"
   ]
  },
  {
   "cell_type": "markdown",
   "metadata": {
    "id": "5vPXnjzYrnOy"
   },
   "source": [
    "### **Compare to Baseline model and explain the results**"
   ]
  },
  {
   "cell_type": "code",
   "execution_count": null,
   "metadata": {
    "id": "FbEs8vioJMMZ"
   },
   "outputs": [],
   "source": []
  },
  {
   "cell_type": "code",
   "execution_count": null,
   "metadata": {
    "id": "qHOEiug4rqnc"
   },
   "outputs": [],
   "source": []
  },
  {
   "cell_type": "markdown",
   "metadata": {
    "id": "mI89JRFIJM2s"
   },
   "source": [
    "your stuff here"
   ]
  },
  {
   "cell_type": "markdown",
   "metadata": {
    "id": "74S0mFl8wKiu"
   },
   "source": [
    "### **BONUS ☝️**\n",
    "- Create a Logistic Regression Model\n",
    "- Compare results to kNN and Baseline and explain the results\n",
    "\n"
   ]
  },
  {
   "cell_type": "code",
   "execution_count": 44,
   "metadata": {
    "id": "rnpePPcUJPIs"
   },
   "outputs": [
    {
     "name": "stdout",
     "output_type": "stream",
     "text": [
      "Fitting 10 folds for each of 8 candidates, totalling 80 fits\n"
     ]
    },
    {
     "name": "stderr",
     "output_type": "stream",
     "text": [
      "[Parallel(n_jobs=-1)]: Using backend LokyBackend with 8 concurrent workers.\n",
      "[Parallel(n_jobs=-1)]: Done  25 tasks      | elapsed:   18.2s\n",
      "[Parallel(n_jobs=-1)]: Done  80 out of  80 | elapsed:   44.9s finished\n"
     ]
    },
    {
     "data": {
      "text/plain": [
       "GridSearchCV(cv=10,\n",
       "             estimator=Pipeline(steps=[('onehotencoder', OneHotEncoder()),\n",
       "                                       ('standardscaler', StandardScaler()),\n",
       "                                       ('logisticregression',\n",
       "                                        LogisticRegression())]),\n",
       "             n_jobs=-1,\n",
       "             param_grid={'onehotencoder__drop_invariant': [True, False],\n",
       "                         'standardscaler__with_mean': [True, False],\n",
       "                         'standardscaler__with_std': [True, False]},\n",
       "             scoring='roc_auc', verbose=2)"
      ]
     },
     "execution_count": 44,
     "metadata": {},
     "output_type": "execute_result"
    }
   ],
   "source": [
    "pipe2 = make_pipeline(\n",
    "    ce.OneHotEncoder(),\n",
    "    StandardScaler(),\n",
    "    LogisticRegression()\n",
    ")\n",
    "\n",
    "p_grid2 = {\n",
    "    \"onehotencoder__drop_invariant\": [True, False],\n",
    "    \"standardscaler__with_mean\": [True, False],\n",
    "    \"standardscaler__with_std\": [True, False],\n",
    "\n",
    "}\n",
    "grid2 = GridSearchCV(pipe2, param_grid=p_grid2, cv=10, scoring=\"roc_auc\", n_jobs=-1, verbose=2)\n",
    "grid2.fit(X_train, y_train)"
   ]
  },
  {
   "cell_type": "code",
   "execution_count": 45,
   "metadata": {
    "id": "WcBpgzkmJPL8"
   },
   "outputs": [
    {
     "data": {
      "text/plain": [
       "0.8525274860266568"
      ]
     },
     "execution_count": 45,
     "metadata": {},
     "output_type": "execute_result"
    }
   ],
   "source": [
    "accuracy_score(y_test, grid2.best_estimator_.predict(X_test))"
   ]
  },
  {
   "cell_type": "code",
   "execution_count": 46,
   "metadata": {
    "id": "KvuHm2cCJPPa"
   },
   "outputs": [
    {
     "data": {
      "text/plain": [
       "<sklearn.metrics._plot.confusion_matrix.ConfusionMatrixDisplay at 0x7fd14792ddc0>"
      ]
     },
     "execution_count": 46,
     "metadata": {},
     "output_type": "execute_result"
    },
    {
     "data": {
      "image/png": "[encoded data removed]",
      "text/plain": [
       "<Figure size 432x288 with 2 Axes>"
      ]
     },
     "metadata": {
      "needs_background": "light"
     },
     "output_type": "display_data"
    }
   ],
   "source": [
    "plot_confusion_matrix(grid2, X_test, y_test)"
   ]
  },
  {
   "cell_type": "code",
   "execution_count": 47,
   "metadata": {
    "id": "mycvPTFUwfxH"
   },
   "outputs": [
    {
     "name": "stdout",
     "output_type": "stream",
     "text": [
      "              precision    recall  f1-score   support\n",
      "\n",
      "       <=50K       0.88      0.93      0.91     12435\n",
      "        >50K       0.73      0.60      0.66      3846\n",
      "\n",
      "    accuracy                           0.85     16281\n",
      "   macro avg       0.81      0.76      0.78     16281\n",
      "weighted avg       0.85      0.85      0.85     16281\n",
      "\n"
     ]
    }
   ],
   "source": [
    "print(classification_report(y_test, grid2.best_estimator_.predict(X_test)))"
   ]
  },
  {
   "cell_type": "markdown",
   "metadata": {
    "id": "Urqb5dHbJQzv"
   },
   "source": [
    "your stuff here"
   ]
  },
  {
   "cell_type": "markdown",
   "metadata": {
    "id": "n55MPfYkwj-t"
   },
   "source": [
    "### **BONUS ✌️**\n",
    "- Use GridSearchCV with your Logistic Regression with `cv=10` passed into your grid"
   ]
  },
  {
   "cell_type": "code",
   "execution_count": null,
   "metadata": {
    "id": "ZXtOQFdowqQ_"
   },
   "outputs": [],
   "source": []
  },
  {
   "cell_type": "code",
   "execution_count": null,
   "metadata": {
    "id": "-7dfqxI4JP5H"
   },
   "outputs": [],
   "source": []
  },
  {
   "cell_type": "code",
   "execution_count": null,
   "metadata": {
    "id": "icq0jR2GJP8o"
   },
   "outputs": [],
   "source": []
  },
  {
   "cell_type": "code",
   "execution_count": null,
   "metadata": {
    "id": "CT-KICLpJP_c"
   },
   "outputs": [],
   "source": []
  }
 ],
 "metadata": {
  "colab": {
   "include_colab_link": true,
   "name": "SDA-ML-Week2-Day4.ipynb",
   "provenance": []
  },
  "kernelspec": {
   "display_name": "Python 3",
   "language": "python",
   "name": "python3"
  },
  "language_info": {
   "codemirror_mode": {
    "name": "ipython",
    "version": 3
   },
   "file_extension": ".py",
   "mimetype": "text/x-python",
   "name": "python",
   "nbconvert_exporter": "python",
   "pygments_lexer": "ipython3",
   "version": "3.8.2"
  }
 },
 "nbformat": 4,
 "nbformat_minor": 4
}
